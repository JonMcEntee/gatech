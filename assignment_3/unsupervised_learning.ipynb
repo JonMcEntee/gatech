{
 "cells": [
  {
   "cell_type": "markdown",
   "metadata": {},
   "source": [
    "# Unsupervised Learning and Dimensionality Reduction"
   ]
  },
  {
   "cell_type": "markdown",
   "metadata": {},
   "source": [
    "Things to do:\n",
    " - Rerun the Neural Network on the Adult Data using all samples and a scaler\n",
    " - Run k-means and EM algorithms on the scaled Adult Data. Describe what you see\n",
    " - Run PCA, ICA, and Randomized Projects on the scaled adult data. Describe what you see.\n",
    " - Rerun k-means and EM on the data after it has been run through each dimensionality reduction algorithm\n",
    " - Rerun Neural Network on dimensionality reduced Adult Data\n",
    " - Rerun Neural Network on clustered data (use clusters as features)"
   ]
  },
  {
   "cell_type": "markdown",
   "metadata": {},
   "source": [
    "# Load in Adult Data and Preprocess"
   ]
  },
  {
   "cell_type": "code",
   "execution_count": 30,
   "metadata": {
    "collapsed": true
   },
   "outputs": [],
   "source": [
    "%matplotlib inline\n",
    "\n",
    "import pandas as pd\n",
    "import numpy as np\n",
    "import timeit\n",
    "import matplotlib.pyplot as plt\n",
    "\n",
    "from sklearn.preprocessing import StandardScaler\n",
    "from sklearn.pipeline import Pipeline\n",
    "from sklearn.neural_network import MLPClassifier\n",
    "from sklearn.model_selection import train_test_split, cross_val_score, GridSearchCV\n",
    "\n",
    "from sklearn.cluster import KMeans\n",
    "from sklearn import metrics\n",
    "from sklearn.mixture import GaussianMixture\n",
    "from sklearn.decomposition import PCA\n",
    "from sklearn.manifold import TSNE"
   ]
  },
  {
   "cell_type": "code",
   "execution_count": 2,
   "metadata": {
    "collapsed": true
   },
   "outputs": [],
   "source": [
    "train = pd.read_csv('adult_train.csv')\n",
    "test = pd.read_csv('adult_test.csv')\n",
    "test[\"income\"] = test.income.apply(lambda x: x[:-1])\n",
    "adult_data = pd.concat([train, test])"
   ]
  },
  {
   "cell_type": "code",
   "execution_count": 3,
   "metadata": {
    "collapsed": true
   },
   "outputs": [],
   "source": [
    "categorical_columns = [\"workclass\", \"education\", \"marital_status\", \"occupation\",\n",
    "                       \"relationship\", \"race\", \"sex\", \"native_country\", \"income\"]\n",
    "\n",
    "adult_data = pd.get_dummies(adult_data, columns=categorical_columns)"
   ]
  },
  {
   "cell_type": "code",
   "execution_count": 19,
   "metadata": {},
   "outputs": [
    {
     "data": {
      "text/plain": [
       "48842"
      ]
     },
     "execution_count": 19,
     "metadata": {},
     "output_type": "execute_result"
    }
   ],
   "source": []
  },
  {
   "cell_type": "code",
   "execution_count": 4,
   "metadata": {
    "collapsed": true
   },
   "outputs": [],
   "source": [
    "y = adult_data[\"income_ >50K\"]\n",
    "X = adult_data.drop([\"income_ >50K\", \"income_ <=50K\"], axis=1)\n",
    "X_columns = X.columns"
   ]
  },
  {
   "cell_type": "code",
   "execution_count": 5,
   "metadata": {
    "collapsed": true
   },
   "outputs": [],
   "source": [
    "y_train, y_test = train_test_split(y, test_size=0.1, stratify=y, random_state=42)\n",
    "X_train, X_test = train_test_split(X, test_size=0.1, stratify=y, random_state=42)"
   ]
  },
  {
   "cell_type": "markdown",
   "metadata": {},
   "source": [
    "# Run on a Neural Net"
   ]
  },
  {
   "cell_type": "code",
   "execution_count": null,
   "metadata": {
    "collapsed": true
   },
   "outputs": [],
   "source": [
    "clf = Pipeline([\n",
    "    (\"scaler\", StandardScaler()),\n",
    "    (\"nn\", MLPClassifier())\n",
    "])\n",
    "\n",
    "parameters = {\n",
    "    'nn__hidden_layer_sizes' : [tuple([x] * n) for x in range(10,100,10) for n in range(1,5)]\n",
    "}\n",
    "\n",
    "grid_search = GridSearchCV(clf, parameters, cv=10, n_jobs=-1)\n",
    "grid_search.fit(X_train, y_train)\n",
    "\n",
    "names = grid_search.cv_results_['param_nn__hidden_layer_sizes']\n",
    "scores = grid_search.cv_results_['mean_test_score']\n",
    "\n",
    "for name, score in zip(names, scores):\n",
    "    print(f'{name}:\\t\\t\\t {score}')"
   ]
  },
  {
   "cell_type": "code",
   "execution_count": null,
   "metadata": {
    "collapsed": true
   },
   "outputs": [],
   "source": [
    "clf = Pipeline([\n",
    "    (\"scaler\", StandardScaler()),\n",
    "    (\"nn\", MLPClassifier())\n",
    "])\n",
    "\n",
    "parameters = {\n",
    "    'nn__hidden_layer_sizes' : [tuple([x]) for x in range(1, 20)]\n",
    "}\n",
    "\n",
    "grid_search = GridSearchCV(clf, parameters, cv=10, n_jobs=-1)\n",
    "grid_search.fit(X_train, y_train)\n",
    "\n",
    "names = grid_search.cv_results_['param_nn__hidden_layer_sizes']\n",
    "scores = grid_search.cv_results_['mean_test_score']\n",
    "\n",
    "for name, score in zip(names, scores):\n",
    "    print(f'{name}:\\t\\t\\t {score}')"
   ]
  },
  {
   "cell_type": "markdown",
   "metadata": {},
   "source": [
    "I performed a grid search on the standardized data, first testing one to five hidden layers of 10 to 100 nodes each. The search found that a single layer of 10 was the optimum, but only by a small amount. The second grid search tested a single hidden layer with one to twenty nodes. Above 3 nodes, all cross validation scores were within a fraction of a percent of each other. All neural nets in this experiment moving forward used a single hidden layer of 5 nodes."
   ]
  },
  {
   "cell_type": "code",
   "execution_count": null,
   "metadata": {
    "collapsed": true
   },
   "outputs": [],
   "source": [
    "clf = Pipeline([\n",
    "    (\"scaler\", StandardScaler()),\n",
    "    (\"nn\", MLPClassifier(hidden_layer_sizes=(5)))\n",
    "])\n",
    "\n",
    "cross_val_score(estimator=clf, X=X_train, y=y_train, cv=10).mean()"
   ]
  },
  {
   "cell_type": "markdown",
   "metadata": {},
   "source": [
    "# Analysis Through K-Means"
   ]
  },
  {
   "cell_type": "code",
   "execution_count": 27,
   "metadata": {},
   "outputs": [
    {
     "name": "stdout",
     "output_type": "stream",
     "text": [
      "training 2-means!\n",
      "training 5-means!\n",
      "training 10-means!\n",
      "training 15-means!\n",
      "training 20-means!\n",
      "training 25-means!\n",
      "training 30-means!\n",
      "training 40-means!\n",
      "training 50-means!\n",
      "training 100-means!\n"
     ]
    },
    {
     "data": {
      "text/html": [
       "<div>\n",
       "<style scoped>\n",
       "    .dataframe tbody tr th:only-of-type {\n",
       "        vertical-align: middle;\n",
       "    }\n",
       "\n",
       "    .dataframe tbody tr th {\n",
       "        vertical-align: top;\n",
       "    }\n",
       "\n",
       "    .dataframe thead th {\n",
       "        text-align: right;\n",
       "    }\n",
       "</style>\n",
       "<table border=\"1\" class=\"dataframe\">\n",
       "  <thead>\n",
       "    <tr style=\"text-align: right;\">\n",
       "      <th></th>\n",
       "      <th>k</th>\n",
       "      <th>time</th>\n",
       "      <th>avg_inertia</th>\n",
       "      <th>homogeneity</th>\n",
       "      <th>completeness</th>\n",
       "      <th>v_measure</th>\n",
       "      <th>adj_rand</th>\n",
       "      <th>adj_mutual_info</th>\n",
       "      <th>silhouette</th>\n",
       "    </tr>\n",
       "  </thead>\n",
       "  <tbody>\n",
       "    <tr>\n",
       "      <th>0</th>\n",
       "      <td>2.0</td>\n",
       "      <td>2.618056</td>\n",
       "      <td>104.139930</td>\n",
       "      <td>0.150462</td>\n",
       "      <td>0.122435</td>\n",
       "      <td>0.135009</td>\n",
       "      <td>0.182152</td>\n",
       "      <td>0.122420</td>\n",
       "      <td>0.005061</td>\n",
       "    </tr>\n",
       "    <tr>\n",
       "      <th>1</th>\n",
       "      <td>5.0</td>\n",
       "      <td>5.221769</td>\n",
       "      <td>100.300651</td>\n",
       "      <td>0.180774</td>\n",
       "      <td>0.073498</td>\n",
       "      <td>0.104507</td>\n",
       "      <td>0.067210</td>\n",
       "      <td>0.073467</td>\n",
       "      <td>-0.374623</td>\n",
       "    </tr>\n",
       "    <tr>\n",
       "      <th>2</th>\n",
       "      <td>10.0</td>\n",
       "      <td>6.911834</td>\n",
       "      <td>93.732371</td>\n",
       "      <td>0.148681</td>\n",
       "      <td>0.049636</td>\n",
       "      <td>0.074425</td>\n",
       "      <td>0.030456</td>\n",
       "      <td>0.049576</td>\n",
       "      <td>-0.307914</td>\n",
       "    </tr>\n",
       "    <tr>\n",
       "      <th>3</th>\n",
       "      <td>15.0</td>\n",
       "      <td>7.660832</td>\n",
       "      <td>88.873704</td>\n",
       "      <td>0.231082</td>\n",
       "      <td>0.065428</td>\n",
       "      <td>0.101981</td>\n",
       "      <td>0.027863</td>\n",
       "      <td>0.065350</td>\n",
       "      <td>-0.503751</td>\n",
       "    </tr>\n",
       "    <tr>\n",
       "      <th>4</th>\n",
       "      <td>20.0</td>\n",
       "      <td>10.554778</td>\n",
       "      <td>83.906277</td>\n",
       "      <td>0.235408</td>\n",
       "      <td>0.066282</td>\n",
       "      <td>0.103439</td>\n",
       "      <td>0.013919</td>\n",
       "      <td>0.066177</td>\n",
       "      <td>-0.618706</td>\n",
       "    </tr>\n",
       "    <tr>\n",
       "      <th>5</th>\n",
       "      <td>25.0</td>\n",
       "      <td>11.189921</td>\n",
       "      <td>78.805294</td>\n",
       "      <td>0.249960</td>\n",
       "      <td>0.062644</td>\n",
       "      <td>0.100181</td>\n",
       "      <td>0.047341</td>\n",
       "      <td>0.062525</td>\n",
       "      <td>-0.552672</td>\n",
       "    </tr>\n",
       "    <tr>\n",
       "      <th>6</th>\n",
       "      <td>30.0</td>\n",
       "      <td>13.939255</td>\n",
       "      <td>74.854113</td>\n",
       "      <td>0.255079</td>\n",
       "      <td>0.055412</td>\n",
       "      <td>0.091046</td>\n",
       "      <td>0.029137</td>\n",
       "      <td>0.055287</td>\n",
       "      <td>-0.680567</td>\n",
       "    </tr>\n",
       "    <tr>\n",
       "      <th>7</th>\n",
       "      <td>40.0</td>\n",
       "      <td>13.345018</td>\n",
       "      <td>65.102013</td>\n",
       "      <td>0.225710</td>\n",
       "      <td>0.047367</td>\n",
       "      <td>0.078302</td>\n",
       "      <td>0.014416</td>\n",
       "      <td>0.047202</td>\n",
       "      <td>-0.656922</td>\n",
       "    </tr>\n",
       "    <tr>\n",
       "      <th>8</th>\n",
       "      <td>50.0</td>\n",
       "      <td>15.176386</td>\n",
       "      <td>54.792578</td>\n",
       "      <td>0.242442</td>\n",
       "      <td>0.048190</td>\n",
       "      <td>0.080399</td>\n",
       "      <td>0.029622</td>\n",
       "      <td>0.047994</td>\n",
       "      <td>-0.816197</td>\n",
       "    </tr>\n",
       "    <tr>\n",
       "      <th>9</th>\n",
       "      <td>100.0</td>\n",
       "      <td>27.924137</td>\n",
       "      <td>29.570970</td>\n",
       "      <td>0.240624</td>\n",
       "      <td>0.032279</td>\n",
       "      <td>0.056922</td>\n",
       "      <td>0.005157</td>\n",
       "      <td>0.032010</td>\n",
       "      <td>-0.840095</td>\n",
       "    </tr>\n",
       "  </tbody>\n",
       "</table>\n",
       "</div>"
      ],
      "text/plain": [
       "       k       time  avg_inertia  homogeneity  completeness  v_measure  \\\n",
       "0    2.0   2.618056   104.139930     0.150462      0.122435   0.135009   \n",
       "1    5.0   5.221769   100.300651     0.180774      0.073498   0.104507   \n",
       "2   10.0   6.911834    93.732371     0.148681      0.049636   0.074425   \n",
       "3   15.0   7.660832    88.873704     0.231082      0.065428   0.101981   \n",
       "4   20.0  10.554778    83.906277     0.235408      0.066282   0.103439   \n",
       "5   25.0  11.189921    78.805294     0.249960      0.062644   0.100181   \n",
       "6   30.0  13.939255    74.854113     0.255079      0.055412   0.091046   \n",
       "7   40.0  13.345018    65.102013     0.225710      0.047367   0.078302   \n",
       "8   50.0  15.176386    54.792578     0.242442      0.048190   0.080399   \n",
       "9  100.0  27.924137    29.570970     0.240624      0.032279   0.056922   \n",
       "\n",
       "   adj_rand  adj_mutual_info  silhouette  \n",
       "0  0.182152         0.122420    0.005061  \n",
       "1  0.067210         0.073467   -0.374623  \n",
       "2  0.030456         0.049576   -0.307914  \n",
       "3  0.027863         0.065350   -0.503751  \n",
       "4  0.013919         0.066177   -0.618706  \n",
       "5  0.047341         0.062525   -0.552672  \n",
       "6  0.029137         0.055287   -0.680567  \n",
       "7  0.014416         0.047202   -0.656922  \n",
       "8  0.029622         0.047994   -0.816197  \n",
       "9  0.005157         0.032010   -0.840095  "
      ]
     },
     "execution_count": 27,
     "metadata": {},
     "output_type": "execute_result"
    }
   ],
   "source": [
    "cluster_error = pd.DataFrame(columns=[\"k\", \"time\", \"avg_inertia\",\n",
    "                                      \"homogeneity\", \"completeness\",\n",
    "                                      \"v_measure\", \"adj_rand\",\n",
    "                                      \"adj_mutual_info\", \"silhouette\"])\n",
    "\n",
    "kmeans_pipeline = Pipeline([\n",
    "    (\"scaler\", StandardScaler()),\n",
    "    (\"kmeans\", KMeans())\n",
    "])\n",
    "\n",
    "k_range = [2, 5, 10, 15, 20, 25, 30, 40, 50, 100]\n",
    "\n",
    "for k in k_range:\n",
    "    print(f\"training {k}-means!\")\n",
    "    t0 = timeit.default_timer()\n",
    "    kmeans_pipeline = kmeans_pipeline.set_params(kmeans__n_clusters=k).fit(X_train)\n",
    "    labels = kmeans_pipeline.named_steps[\"kmeans\"].labels_\n",
    "    scores = {\"k\": k,\n",
    "              \"time\" : timeit.default_timer() - t0,\n",
    "              \"avg_inertia\": kmeans_pipeline.named_steps[\"kmeans\"].inertia_/len(X_train),\n",
    "              \"homogeneity\": metrics.homogeneity_score(y_train, labels),\n",
    "              \"completeness\" : metrics.completeness_score(y_train, labels),\n",
    "              \"v_measure\" : metrics.v_measure_score(y_train, labels),\n",
    "              \"adj_rand\" : metrics.adjusted_rand_score(y_train, labels),\n",
    "              \"adj_mutual_info\" : metrics.adjusted_mutual_info_score(y_train, labels),\n",
    "              \"silhouette\": metrics.silhouette_score(X_train, labels,\n",
    "                                                    metric='euclidean',\n",
    "                                                    sample_size=300)\n",
    "             }\n",
    "    cluster_error = cluster_error.append(scores, ignore_index=True)\n",
    "    \n",
    "cluster_error"
   ]
  },
  {
   "cell_type": "markdown",
   "metadata": {
    "collapsed": true
   },
   "source": [
    "# Analysis Through EM"
   ]
  },
  {
   "cell_type": "code",
   "execution_count": 26,
   "metadata": {},
   "outputs": [
    {
     "name": "stdout",
     "output_type": "stream",
     "text": [
      "training 2-means!\n",
      "training 5-means!\n",
      "training 10-means!\n",
      "training 15-means!\n",
      "training 20-means!\n",
      "training 25-means!\n",
      "training 30-means!\n",
      "training 40-means!\n",
      "training 50-means!\n",
      "training 100-means!\n"
     ]
    },
    {
     "data": {
      "text/html": [
       "<div>\n",
       "<style scoped>\n",
       "    .dataframe tbody tr th:only-of-type {\n",
       "        vertical-align: middle;\n",
       "    }\n",
       "\n",
       "    .dataframe tbody tr th {\n",
       "        vertical-align: top;\n",
       "    }\n",
       "\n",
       "    .dataframe thead th {\n",
       "        text-align: right;\n",
       "    }\n",
       "</style>\n",
       "<table border=\"1\" class=\"dataframe\">\n",
       "  <thead>\n",
       "    <tr style=\"text-align: right;\">\n",
       "      <th></th>\n",
       "      <th>k</th>\n",
       "      <th>time</th>\n",
       "      <th>lower_bound</th>\n",
       "      <th>homogeneity</th>\n",
       "      <th>completeness</th>\n",
       "      <th>v_measure</th>\n",
       "      <th>adj_rand</th>\n",
       "      <th>adj_mutual_info</th>\n",
       "      <th>BIC</th>\n",
       "      <th>silhouette</th>\n",
       "    </tr>\n",
       "  </thead>\n",
       "  <tbody>\n",
       "    <tr>\n",
       "      <th>0</th>\n",
       "      <td>2.0</td>\n",
       "      <td>2.321207</td>\n",
       "      <td>-37.773169</td>\n",
       "      <td>0.148576</td>\n",
       "      <td>0.121183</td>\n",
       "      <td>0.133489</td>\n",
       "      <td>0.183417</td>\n",
       "      <td>0.121168</td>\n",
       "      <td>2.178657e+15</td>\n",
       "      <td>-0.005449</td>\n",
       "    </tr>\n",
       "    <tr>\n",
       "      <th>1</th>\n",
       "      <td>5.0</td>\n",
       "      <td>12.781587</td>\n",
       "      <td>113.602096</td>\n",
       "      <td>0.062217</td>\n",
       "      <td>0.035236</td>\n",
       "      <td>0.044992</td>\n",
       "      <td>-0.048388</td>\n",
       "      <td>0.035191</td>\n",
       "      <td>1.885316e+15</td>\n",
       "      <td>-0.338519</td>\n",
       "    </tr>\n",
       "    <tr>\n",
       "      <th>2</th>\n",
       "      <td>10.0</td>\n",
       "      <td>20.318177</td>\n",
       "      <td>266.542330</td>\n",
       "      <td>0.189490</td>\n",
       "      <td>0.059413</td>\n",
       "      <td>0.090462</td>\n",
       "      <td>0.042725</td>\n",
       "      <td>0.059358</td>\n",
       "      <td>2.096757e+15</td>\n",
       "      <td>-0.441084</td>\n",
       "    </tr>\n",
       "    <tr>\n",
       "      <th>3</th>\n",
       "      <td>15.0</td>\n",
       "      <td>65.593852</td>\n",
       "      <td>192.875621</td>\n",
       "      <td>0.205838</td>\n",
       "      <td>0.056682</td>\n",
       "      <td>0.088887</td>\n",
       "      <td>0.021288</td>\n",
       "      <td>0.056606</td>\n",
       "      <td>2.025957e+15</td>\n",
       "      <td>-0.236980</td>\n",
       "    </tr>\n",
       "    <tr>\n",
       "      <th>4</th>\n",
       "      <td>20.0</td>\n",
       "      <td>63.534689</td>\n",
       "      <td>283.301600</td>\n",
       "      <td>0.211485</td>\n",
       "      <td>0.055093</td>\n",
       "      <td>0.087414</td>\n",
       "      <td>0.025204</td>\n",
       "      <td>0.054995</td>\n",
       "      <td>2.040378e+15</td>\n",
       "      <td>-0.578277</td>\n",
       "    </tr>\n",
       "    <tr>\n",
       "      <th>5</th>\n",
       "      <td>25.0</td>\n",
       "      <td>72.785139</td>\n",
       "      <td>219.942203</td>\n",
       "      <td>0.216853</td>\n",
       "      <td>0.049962</td>\n",
       "      <td>0.081213</td>\n",
       "      <td>0.049624</td>\n",
       "      <td>0.049852</td>\n",
       "      <td>2.097532e+15</td>\n",
       "      <td>-0.682518</td>\n",
       "    </tr>\n",
       "    <tr>\n",
       "      <th>6</th>\n",
       "      <td>30.0</td>\n",
       "      <td>89.579695</td>\n",
       "      <td>284.776617</td>\n",
       "      <td>0.197184</td>\n",
       "      <td>0.043446</td>\n",
       "      <td>0.071204</td>\n",
       "      <td>0.041886</td>\n",
       "      <td>0.043318</td>\n",
       "      <td>1.901434e+15</td>\n",
       "      <td>-0.712077</td>\n",
       "    </tr>\n",
       "    <tr>\n",
       "      <th>7</th>\n",
       "      <td>40.0</td>\n",
       "      <td>96.065422</td>\n",
       "      <td>346.416483</td>\n",
       "      <td>0.169144</td>\n",
       "      <td>0.033442</td>\n",
       "      <td>0.055844</td>\n",
       "      <td>0.006273</td>\n",
       "      <td>0.033286</td>\n",
       "      <td>1.979016e+15</td>\n",
       "      <td>-0.741955</td>\n",
       "    </tr>\n",
       "    <tr>\n",
       "      <th>8</th>\n",
       "      <td>50.0</td>\n",
       "      <td>176.163836</td>\n",
       "      <td>348.992854</td>\n",
       "      <td>0.204603</td>\n",
       "      <td>0.039333</td>\n",
       "      <td>0.065982</td>\n",
       "      <td>0.007030</td>\n",
       "      <td>0.039143</td>\n",
       "      <td>1.563459e+15</td>\n",
       "      <td>-0.828179</td>\n",
       "    </tr>\n",
       "    <tr>\n",
       "      <th>9</th>\n",
       "      <td>100.0</td>\n",
       "      <td>193.390495</td>\n",
       "      <td>468.569299</td>\n",
       "      <td>0.238202</td>\n",
       "      <td>0.031844</td>\n",
       "      <td>0.056178</td>\n",
       "      <td>0.005449</td>\n",
       "      <td>0.031576</td>\n",
       "      <td>1.275383e+15</td>\n",
       "      <td>-0.838437</td>\n",
       "    </tr>\n",
       "  </tbody>\n",
       "</table>\n",
       "</div>"
      ],
      "text/plain": [
       "       k        time  lower_bound  homogeneity  completeness  v_measure  \\\n",
       "0    2.0    2.321207   -37.773169     0.148576      0.121183   0.133489   \n",
       "1    5.0   12.781587   113.602096     0.062217      0.035236   0.044992   \n",
       "2   10.0   20.318177   266.542330     0.189490      0.059413   0.090462   \n",
       "3   15.0   65.593852   192.875621     0.205838      0.056682   0.088887   \n",
       "4   20.0   63.534689   283.301600     0.211485      0.055093   0.087414   \n",
       "5   25.0   72.785139   219.942203     0.216853      0.049962   0.081213   \n",
       "6   30.0   89.579695   284.776617     0.197184      0.043446   0.071204   \n",
       "7   40.0   96.065422   346.416483     0.169144      0.033442   0.055844   \n",
       "8   50.0  176.163836   348.992854     0.204603      0.039333   0.065982   \n",
       "9  100.0  193.390495   468.569299     0.238202      0.031844   0.056178   \n",
       "\n",
       "   adj_rand  adj_mutual_info           BIC  silhouette  \n",
       "0  0.183417         0.121168  2.178657e+15   -0.005449  \n",
       "1 -0.048388         0.035191  1.885316e+15   -0.338519  \n",
       "2  0.042725         0.059358  2.096757e+15   -0.441084  \n",
       "3  0.021288         0.056606  2.025957e+15   -0.236980  \n",
       "4  0.025204         0.054995  2.040378e+15   -0.578277  \n",
       "5  0.049624         0.049852  2.097532e+15   -0.682518  \n",
       "6  0.041886         0.043318  1.901434e+15   -0.712077  \n",
       "7  0.006273         0.033286  1.979016e+15   -0.741955  \n",
       "8  0.007030         0.039143  1.563459e+15   -0.828179  \n",
       "9  0.005449         0.031576  1.275383e+15   -0.838437  "
      ]
     },
     "execution_count": 26,
     "metadata": {},
     "output_type": "execute_result"
    }
   ],
   "source": [
    "em_error = pd.DataFrame(columns=[\"k\", \"time\", \"lower_bound\",\n",
    "                                 \"homogeneity\", \"completeness\",\n",
    "                                 \"v_measure\", \"adj_rand\",\n",
    "                                  \"adj_mutual_info\", \"BIC\", \"silhouette\"])\n",
    "\n",
    "em_pipeline = Pipeline([\n",
    "    (\"scaler\", StandardScaler()),\n",
    "    (\"em\", GaussianMixture())\n",
    "])\n",
    "\n",
    "k_range = [2, 5, 10, 15, 20, 25, 30, 40, 50, 100]\n",
    "\n",
    "for k in k_range:\n",
    "    print(f\"training {k}-means!\")\n",
    "    t0 = timeit.default_timer()\n",
    "    em_pipeline = em_pipeline.set_params(em__n_components=k).fit(X_train)\n",
    "    labels = em_pipeline.predict(X_train)\n",
    "    scores = {\"k\": k,\n",
    "              \"time\" : timeit.default_timer() - t0,\n",
    "              \"lower_bound\": em_pipeline.named_steps[\"em\"].lower_bound_,\n",
    "              \"homogeneity\": metrics.homogeneity_score(y_train, labels),\n",
    "              \"completeness\" : metrics.completeness_score(y_train, labels),\n",
    "              \"v_measure\" : metrics.v_measure_score(y_train, labels),\n",
    "              \"adj_rand\" : metrics.adjusted_rand_score(y_train, labels),\n",
    "              \"adj_mutual_info\" : metrics.adjusted_mutual_info_score(y_train, labels),\n",
    "              \"BIC\" : em_pipeline.named_steps[\"em\"].bic(X_train),\n",
    "              \"silhouette\": metrics.silhouette_score(X_train, labels,\n",
    "                                                    metric='euclidean',\n",
    "                                                    sample_size=300)\n",
    "             }\n",
    "    em_error = em_error.append(scores, ignore_index=True)\n",
    "    \n",
    "em_error"
   ]
  },
  {
   "cell_type": "markdown",
   "metadata": {},
   "source": [
    "# t-SNE Graph"
   ]
  },
  {
   "cell_type": "code",
   "execution_count": null,
   "metadata": {},
   "outputs": [],
   "source": [
    "tsne = TSNE(n_components=2, init='pca', random_state=0, n_iter=1000)\n",
    "t0 = timeit.default_timer()\n",
    "X_tsne = tsne.fit_transform(X_train)\n",
    "tsne_time = timeit.default_timer() - t0"
   ]
  },
  {
   "cell_type": "code",
   "execution_count": 62,
   "metadata": {},
   "outputs": [
    {
     "data": {
      "text/plain": [
       "<matplotlib.axes._subplots.AxesSubplot at 0x1a11e4d4e0>"
      ]
     },
     "execution_count": 62,
     "metadata": {},
     "output_type": "execute_result"
    },
    {
     "data": {
      "image/png": "[encoded data removed]",
      "text/plain": [
       "<matplotlib.figure.Figure at 0x1a11e4b898>"
      ]
     },
     "metadata": {},
     "output_type": "display_data"
    }
   ],
   "source": [
    "# X_tsne = pd.DataFrame(X_tsne, columns=[\"X1\", \"X2\"])\n",
    "X_tsne = X_tsne.assign(y = np.array(y_train))\n",
    "X_tsne.plot.scatter(x='X1', y='X2', c=\"y\")"
   ]
  },
  {
   "cell_type": "code",
   "execution_count": 53,
   "metadata": {},
   "outputs": [
    {
     "data": {
      "text/plain": [
       "<matplotlib.axes._subplots.AxesSubplot at 0x10dd596a0>"
      ]
     },
     "execution_count": 53,
     "metadata": {},
     "output_type": "execute_result"
    },
    {
     "data": {
      "image/png": "[encoded data removed]",
      "text/plain": [
       "<matplotlib.figure.Figure at 0x1108b3748>"
      ]
     },
     "metadata": {},
     "output_type": "display_data"
    }
   ],
   "source": [
    "kmeans = kmeans_pipeline.set_params(kmeans__n_clusters=2).fit(X_train)\n",
    "kmeans_labels = kmeans.named_steps[\"kmeans\"].labels_\n",
    "X_tsne = X_tsne.assign(kmeans_cluster = kmeans_labels)\n",
    "X_tsne.plot.scatter(x='X1', y='X2', c=\"kmeans_cluster\")"
   ]
  },
  {
   "cell_type": "code",
   "execution_count": 55,
   "metadata": {},
   "outputs": [
    {
     "data": {
      "text/plain": [
       "<matplotlib.axes._subplots.AxesSubplot at 0x1a12b02358>"
      ]
     },
     "execution_count": 55,
     "metadata": {},
     "output_type": "execute_result"
    },
    {
     "data": {
      "image/png": "[encoded data removed]",
      "text/plain": [
       "<matplotlib.figure.Figure at 0x1a12af3c50>"
      ]
     },
     "metadata": {},
     "output_type": "display_data"
    }
   ],
   "source": [
    "em = em_pipeline.set_params(em__n_components=2).fit(X_train)\n",
    "em_labels = em_pipeline.predict(X_train)\n",
    "X_tsne = X_tsne.assign(em_cluster = em_labels)\n",
    "X_tsne.to_csv(\"tsne_without_transformation.csv\")\n",
    "X_tsne.plot.scatter(x='X1', y='X2', c=\"em_cluster\")"
   ]
  },
  {
   "cell_type": "markdown",
   "metadata": {
    "collapsed": true
   },
   "source": [
    "# Principal Component Analysis"
   ]
  },
  {
   "cell_type": "code",
   "execution_count": 63,
   "metadata": {},
   "outputs": [],
   "source": []
  },
  {
   "cell_type": "code",
   "execution_count": null,
   "metadata": {
    "collapsed": true
   },
   "outputs": [],
   "source": []
  }
 ],
 "metadata": {
  "kernelspec": {
   "display_name": "Python 3",
   "language": "python",
   "name": "python3"
  },
  "language_info": {
   "codemirror_mode": {
    "name": "ipython",
    "version": 3
   },
   "file_extension": ".py",
   "mimetype": "text/x-python",
   "name": "python",
   "nbconvert_exporter": "python",
   "pygments_lexer": "ipython3",
   "version": "3.6.3"
  }
 },
 "nbformat": 4,
 "nbformat_minor": 2
}
